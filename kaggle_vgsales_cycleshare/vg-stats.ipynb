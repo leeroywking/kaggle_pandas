{
 "cells": [
  {
   "cell_type": "code",
   "execution_count": 104,
   "metadata": {},
   "outputs": [],
   "source": [
    "import pandas as pd"
   ]
  },
  {
   "cell_type": "code",
   "execution_count": 105,
   "metadata": {},
   "outputs": [],
   "source": [
    "vgsales_df = pd.read_csv('../resources/vgsales.csv')\n"
   ]
  },
  {
   "cell_type": "markdown",
   "metadata": {},
   "source": [
    "### Which company is the most common video game publisher?\n",
    "    \n",
    "\n"
   ]
  },
  {
   "cell_type": "code",
   "execution_count": 106,
   "metadata": {},
   "outputs": [
    {
     "output_type": "execute_result",
     "data": {
      "text/plain": "Electronic Arts                 1351\nActivision                       975\nNamco Bandai Games               932\nUbisoft                          921\nKonami Digital Entertainment     832\n                                ... \nGraphsim Entertainment             1\nHello Games                        1\nPopTop Software                    1\nEA Games                           1\nSunflowers                         1\nName: Publisher, Length: 578, dtype: int64"
     },
     "metadata": {},
     "execution_count": 106
    }
   ],
   "source": [
    "vgsales_df[\"Publisher\"].value_counts()"
   ]
  },
  {
   "cell_type": "markdown",
   "metadata": {},
   "source": [
    "### What’s the most common platform?\n",
    "    \n"
   ]
  },
  {
   "cell_type": "code",
   "execution_count": 107,
   "metadata": {},
   "outputs": [
    {
     "output_type": "execute_result",
     "data": {
      "text/plain": "DS      2163\nPS2     2161\nPS3     1329\nWii     1325\nX360    1265\nPSP     1213\nPS      1196\nPC       960\nXB       824\nGBA      822\nGC       556\n3DS      509\nPSV      413\nPS4      336\nN64      319\nSNES     239\nXOne     213\nSAT      173\nWiiU     143\n2600     133\nGB        98\nNES       98\nDC        52\nGEN       27\nNG        12\nWS         6\nSCD        6\n3DO        3\nTG16       2\nPCFX       1\nGG         1\nName: Platform, dtype: int64"
     },
     "metadata": {},
     "execution_count": 107
    }
   ],
   "source": [
    "vgsales_df[\"Platform\"].value_counts()"
   ]
  },
  {
   "cell_type": "markdown",
   "metadata": {},
   "source": [
    "### What about the most common genre?\n",
    "    \n"
   ]
  },
  {
   "cell_type": "code",
   "execution_count": 108,
   "metadata": {},
   "outputs": [
    {
     "output_type": "execute_result",
     "data": {
      "text/plain": "Action          3316\nSports          2346\nMisc            1739\nRole-Playing    1488\nShooter         1310\nAdventure       1286\nRacing          1249\nPlatform         886\nSimulation       867\nFighting         848\nStrategy         681\nPuzzle           582\nName: Genre, dtype: int64"
     },
     "metadata": {},
     "execution_count": 108
    }
   ],
   "source": [
    "vgsales_df[\"Genre\"].value_counts()"
   ]
  },
  {
   "cell_type": "markdown",
   "metadata": {},
   "source": [
    "### What are the top 20 highest grossing games?\n",
    "\n"
   ]
  },
  {
   "cell_type": "code",
   "execution_count": 109,
   "metadata": {},
   "outputs": [
    {
     "output_type": "execute_result",
     "data": {
      "text/plain": "                                            Name  Global_Sales\n0                                     Wii Sports         82.74\n1                              Super Mario Bros.         40.24\n2                                 Mario Kart Wii         35.82\n3                              Wii Sports Resort         33.00\n4                       Pokemon Red/Pokemon Blue         31.37\n5                                         Tetris         30.26\n6                          New Super Mario Bros.         30.01\n7                                       Wii Play         29.02\n8                      New Super Mario Bros. Wii         28.62\n9                                      Duck Hunt         28.31\n10                                    Nintendogs         24.76\n11                                 Mario Kart DS         23.42\n12                   Pokemon Gold/Pokemon Silver         23.10\n13                                       Wii Fit         22.72\n14                                  Wii Fit Plus         22.00\n15                            Kinect Adventures!         21.82\n16                            Grand Theft Auto V         21.40\n17                 Grand Theft Auto: San Andreas         20.81\n18                             Super Mario World         20.61\n19  Brain Age: Train Your Brain in Minutes a Day         20.22",
      "text/html": "<div>\n<style scoped>\n    .dataframe tbody tr th:only-of-type {\n        vertical-align: middle;\n    }\n\n    .dataframe tbody tr th {\n        vertical-align: top;\n    }\n\n    .dataframe thead th {\n        text-align: right;\n    }\n</style>\n<table border=\"1\" class=\"dataframe\">\n  <thead>\n    <tr style=\"text-align: right;\">\n      <th></th>\n      <th>Name</th>\n      <th>Global_Sales</th>\n    </tr>\n  </thead>\n  <tbody>\n    <tr>\n      <th>0</th>\n      <td>Wii Sports</td>\n      <td>82.74</td>\n    </tr>\n    <tr>\n      <th>1</th>\n      <td>Super Mario Bros.</td>\n      <td>40.24</td>\n    </tr>\n    <tr>\n      <th>2</th>\n      <td>Mario Kart Wii</td>\n      <td>35.82</td>\n    </tr>\n    <tr>\n      <th>3</th>\n      <td>Wii Sports Resort</td>\n      <td>33.00</td>\n    </tr>\n    <tr>\n      <th>4</th>\n      <td>Pokemon Red/Pokemon Blue</td>\n      <td>31.37</td>\n    </tr>\n    <tr>\n      <th>5</th>\n      <td>Tetris</td>\n      <td>30.26</td>\n    </tr>\n    <tr>\n      <th>6</th>\n      <td>New Super Mario Bros.</td>\n      <td>30.01</td>\n    </tr>\n    <tr>\n      <th>7</th>\n      <td>Wii Play</td>\n      <td>29.02</td>\n    </tr>\n    <tr>\n      <th>8</th>\n      <td>New Super Mario Bros. Wii</td>\n      <td>28.62</td>\n    </tr>\n    <tr>\n      <th>9</th>\n      <td>Duck Hunt</td>\n      <td>28.31</td>\n    </tr>\n    <tr>\n      <th>10</th>\n      <td>Nintendogs</td>\n      <td>24.76</td>\n    </tr>\n    <tr>\n      <th>11</th>\n      <td>Mario Kart DS</td>\n      <td>23.42</td>\n    </tr>\n    <tr>\n      <th>12</th>\n      <td>Pokemon Gold/Pokemon Silver</td>\n      <td>23.10</td>\n    </tr>\n    <tr>\n      <th>13</th>\n      <td>Wii Fit</td>\n      <td>22.72</td>\n    </tr>\n    <tr>\n      <th>14</th>\n      <td>Wii Fit Plus</td>\n      <td>22.00</td>\n    </tr>\n    <tr>\n      <th>15</th>\n      <td>Kinect Adventures!</td>\n      <td>21.82</td>\n    </tr>\n    <tr>\n      <th>16</th>\n      <td>Grand Theft Auto V</td>\n      <td>21.40</td>\n    </tr>\n    <tr>\n      <th>17</th>\n      <td>Grand Theft Auto: San Andreas</td>\n      <td>20.81</td>\n    </tr>\n    <tr>\n      <th>18</th>\n      <td>Super Mario World</td>\n      <td>20.61</td>\n    </tr>\n    <tr>\n      <th>19</th>\n      <td>Brain Age: Train Your Brain in Minutes a Day</td>\n      <td>20.22</td>\n    </tr>\n  </tbody>\n</table>\n</div>"
     },
     "metadata": {},
     "execution_count": 109
    }
   ],
   "source": [
    "vgsales_df[[\"Name\", \"Global_Sales\"]].head(20)"
   ]
  },
  {
   "cell_type": "markdown",
   "metadata": {},
   "source": [
    "### For North American video game sales, what’s the median?\n",
    "\n"
   ]
  },
  {
   "cell_type": "code",
   "execution_count": 110,
   "metadata": {},
   "outputs": [
    {
     "output_type": "execute_result",
     "data": {
      "text/plain": "0.08"
     },
     "metadata": {},
     "execution_count": 110
    }
   ],
   "source": [
    "vgsales_df[\"NA_Sales\"].median()"
   ]
  },
  {
   "cell_type": "markdown",
   "metadata": {},
   "source": [
    "### Provide a secondary output showing ten games surrounding the median sales output assume that games with same median value are sorted in descending order\n",
    "\n"
   ]
  },
  {
   "cell_type": "code",
   "execution_count": 111,
   "metadata": {},
   "outputs": [
    {
     "output_type": "execute_result",
     "data": {
      "text/plain": "                                           Name  NA_Sales\n11138                  Harvest Moon: Boy & Girl      0.08\n4361               One Piece: Pirate Warriors 3      0.08\n10463  Tom Clancy's Splinter Cell: Chaos Theory      0.08\n10020                  Phantasy Star Collection      0.08\n11144                             The Ant Bully      0.08\n8614    Ghost in the Shell: Stand Alone Complex      0.08\n8613                SpongeBob's Truth or Square      0.08\n10461          Metal Arms: Glitch in the System      0.08\n11145                 MLB 2K9 Fantasy All-Stars      0.08\n11149               Shrek Smash n' Crash Racing      0.08",
      "text/html": "<div>\n<style scoped>\n    .dataframe tbody tr th:only-of-type {\n        vertical-align: middle;\n    }\n\n    .dataframe tbody tr th {\n        vertical-align: top;\n    }\n\n    .dataframe thead th {\n        text-align: right;\n    }\n</style>\n<table border=\"1\" class=\"dataframe\">\n  <thead>\n    <tr style=\"text-align: right;\">\n      <th></th>\n      <th>Name</th>\n      <th>NA_Sales</th>\n    </tr>\n  </thead>\n  <tbody>\n    <tr>\n      <th>11138</th>\n      <td>Harvest Moon: Boy &amp; Girl</td>\n      <td>0.08</td>\n    </tr>\n    <tr>\n      <th>4361</th>\n      <td>One Piece: Pirate Warriors 3</td>\n      <td>0.08</td>\n    </tr>\n    <tr>\n      <th>10463</th>\n      <td>Tom Clancy's Splinter Cell: Chaos Theory</td>\n      <td>0.08</td>\n    </tr>\n    <tr>\n      <th>10020</th>\n      <td>Phantasy Star Collection</td>\n      <td>0.08</td>\n    </tr>\n    <tr>\n      <th>11144</th>\n      <td>The Ant Bully</td>\n      <td>0.08</td>\n    </tr>\n    <tr>\n      <th>8614</th>\n      <td>Ghost in the Shell: Stand Alone Complex</td>\n      <td>0.08</td>\n    </tr>\n    <tr>\n      <th>8613</th>\n      <td>SpongeBob's Truth or Square</td>\n      <td>0.08</td>\n    </tr>\n    <tr>\n      <th>10461</th>\n      <td>Metal Arms: Glitch in the System</td>\n      <td>0.08</td>\n    </tr>\n    <tr>\n      <th>11145</th>\n      <td>MLB 2K9 Fantasy All-Stars</td>\n      <td>0.08</td>\n    </tr>\n    <tr>\n      <th>11149</th>\n      <td>Shrek Smash n' Crash Racing</td>\n      <td>0.08</td>\n    </tr>\n  </tbody>\n</table>\n</div>"
     },
     "metadata": {},
     "execution_count": 111
    }
   ],
   "source": [
    "midpoint = len(vgsales_df[[\"Name\",\"NA_Sales\"]]) //2\n",
    "vgsales_df.sort_values(by=[\"NA_Sales\"])[[\"Name\",\"NA_Sales\"]][midpoint -5 : midpoint + 5]"
   ]
  },
  {
   "cell_type": "markdown",
   "metadata": {},
   "source": [
    "### For the top-selling game of all time, how many standard deviations above/below the mean are its sales for North America?\n",
    "    \n"
   ]
  },
  {
   "cell_type": "code",
   "execution_count": 112,
   "metadata": {
    "tags": []
   },
   "outputs": [
    {
     "output_type": "stream",
     "name": "stdout",
     "text": "Best selling game of all time\n"
    },
    {
     "output_type": "execute_result",
     "data": {
      "text/plain": "         Name  Global_Sales\n0  Wii Sports         82.74",
      "text/html": "<div>\n<style scoped>\n    .dataframe tbody tr th:only-of-type {\n        vertical-align: middle;\n    }\n\n    .dataframe tbody tr th {\n        vertical-align: top;\n    }\n\n    .dataframe thead th {\n        text-align: right;\n    }\n</style>\n<table border=\"1\" class=\"dataframe\">\n  <thead>\n    <tr style=\"text-align: right;\">\n      <th></th>\n      <th>Name</th>\n      <th>Global_Sales</th>\n    </tr>\n  </thead>\n  <tbody>\n    <tr>\n      <th>0</th>\n      <td>Wii Sports</td>\n      <td>82.74</td>\n    </tr>\n  </tbody>\n</table>\n</div>"
     },
     "metadata": {},
     "execution_count": 112
    }
   ],
   "source": [
    "print(\"Best selling game of all time\")\n",
    "vgsales_df.sort_values(by=[\"Global_Sales\"])[[\"Name\",\"Global_Sales\"]].tail(1)\n",
    "\n"
   ]
  },
  {
   "cell_type": "code",
   "execution_count": 113,
   "metadata": {
    "tags": []
   },
   "outputs": [
    {
     "output_type": "stream",
     "name": "stdout",
     "text": "North American Sales for best selling game of all time\n"
    },
    {
     "output_type": "execute_result",
     "data": {
      "text/plain": "         Name  NA_Sales\n0  Wii Sports     41.49",
      "text/html": "<div>\n<style scoped>\n    .dataframe tbody tr th:only-of-type {\n        vertical-align: middle;\n    }\n\n    .dataframe tbody tr th {\n        vertical-align: top;\n    }\n\n    .dataframe thead th {\n        text-align: right;\n    }\n</style>\n<table border=\"1\" class=\"dataframe\">\n  <thead>\n    <tr style=\"text-align: right;\">\n      <th></th>\n      <th>Name</th>\n      <th>NA_Sales</th>\n    </tr>\n  </thead>\n  <tbody>\n    <tr>\n      <th>0</th>\n      <td>Wii Sports</td>\n      <td>41.49</td>\n    </tr>\n  </tbody>\n</table>\n</div>"
     },
     "metadata": {},
     "execution_count": 113
    }
   ],
   "source": [
    "print(\"North American Sales for best selling game of all time\")\n",
    "vgsales_df.sort_values(by=[\"Global_Sales\"])[[\"Name\",\"NA_Sales\"]].tail(1)"
   ]
  },
  {
   "cell_type": "code",
   "execution_count": 114,
   "metadata": {
    "tags": []
   },
   "outputs": [
    {
     "output_type": "stream",
     "name": "stdout",
     "text": "Standard Deviation for NA sales\n"
    },
    {
     "output_type": "execute_result",
     "data": {
      "text/plain": "NA_Sales    0.816683\ndtype: float64"
     },
     "metadata": {},
     "execution_count": 114
    }
   ],
   "source": [
    "print(\"Standard Deviation for NA sales\")\n",
    "vgsales_df.sort_values(by=[\"NA_Sales\"])[[\"NA_Sales\"]].std()"
   ]
  },
  {
   "cell_type": "code",
   "execution_count": 115,
   "metadata": {
    "tags": []
   },
   "outputs": [
    {
     "output_type": "stream",
     "name": "stdout",
     "text": "Mean of all NA sales\n"
    },
    {
     "output_type": "execute_result",
     "data": {
      "text/plain": "NA_Sales    0.264667\ndtype: float64"
     },
     "metadata": {},
     "execution_count": 115
    }
   ],
   "source": [
    "print(\"Mean of all NA sales\")\n",
    "vgsales_df.sort_values(by=[\"NA_Sales\"])[[\"NA_Sales\"]].mean()"
   ]
  },
  {
   "cell_type": "code",
   "execution_count": 116,
   "metadata": {
    "tags": []
   },
   "outputs": [
    {
     "output_type": "stream",
     "name": "stdout",
     "text": "Number of standard deviations wii sports sold above mean\n    NA_Sales\n0  50.478988 standard deviations\n"
    }
   ],
   "source": [
    "print(\"Number of standard deviations wii sports sold above mean\")\n",
    "mean = vgsales_df.sort_values(by=[\"NA_Sales\"])[[\"NA_Sales\"]].mean()\n",
    "std_deviation = vgsales_df.sort_values(by=[\"NA_Sales\"])[[\"NA_Sales\"]].std()\n",
    "wii_sports_sales = vgsales_df.sort_values(by=[\"NA_Sales\"])[[\"NA_Sales\"]].tail(1)\n",
    "print((wii_sports_sales - mean) /std_deviation, \"standard deviations\")"
   ]
  },
  {
   "cell_type": "markdown",
   "metadata": {},
   "source": [
    "### The Nintendo Wii seems to have outdone itself with games. How does its average number of sales compare with all of the other platforms?\n",
    "\n"
   ]
  },
  {
   "cell_type": "code",
   "execution_count": 117,
   "metadata": {},
   "outputs": [
    {
     "output_type": "execute_result",
     "data": {
      "text/plain": "Platform\n2600    0.729925\n3DO     0.033333\n3DS     0.486169\nDC      0.307115\nDS      0.380254\nGB      2.606633\nGBA     0.387470\nGC      0.358561\nGEN     1.050370\nGG      0.040000\nN64     0.686144\nNES     2.561939\nNG      0.120000\nPC      0.269604\nPCFX    0.030000\nPS      0.610920\nPS2     0.581046\nPS3     0.720722\nPS4     0.827679\nPSP     0.244254\nPSV     0.149952\nSAT     0.194162\nSCD     0.311667\nSNES    0.837029\nTG16    0.080000\nWS      0.236667\nWii     0.699404\nWiiU    0.572448\nX360    0.774672\nXB      0.313422\nXOne    0.662254\nName: Global_Sales, dtype: float64"
     },
     "metadata": {},
     "execution_count": 117
    }
   ],
   "source": [
    "vgsales_df.groupby(\"Platform\")[\"Global_Sales\"].mean()"
   ]
  },
  {
   "cell_type": "markdown",
   "metadata": {},
   "source": [
    "### Come up with 3 more questions that can be answered with this data set."
   ]
  },
  {
   "cell_type": "markdown",
   "metadata": {},
   "source": [
    "### I'm gonna do one question but it will have some cool sub questions. My Big question is this\n",
    "What games are *RELATIVELY* the most popular in JP, EU and NA\n",
    "that is to say which games have the highest portion of their sales in each of the zones."
   ]
  },
  {
   "cell_type": "code",
   "execution_count": 118,
   "metadata": {},
   "outputs": [
    {
     "output_type": "execute_result",
     "data": {
      "text/plain": "   Rank                      Name Platform    Year         Genre Publisher  \\\n0     1                Wii Sports      Wii  2006.0        Sports  Nintendo   \n1     2         Super Mario Bros.      NES  1985.0      Platform  Nintendo   \n2     3            Mario Kart Wii      Wii  2008.0        Racing  Nintendo   \n3     4         Wii Sports Resort      Wii  2009.0        Sports  Nintendo   \n4     5  Pokemon Red/Pokemon Blue       GB  1996.0  Role-Playing  Nintendo   \n\n   NA_Sales  EU_Sales  JP_Sales  Other_Sales  Global_Sales  \n0     41.49     29.02      3.77         8.46         82.74  \n1     29.08      3.58      6.81         0.77         40.24  \n2     15.85     12.88      3.79         3.31         35.82  \n3     15.75     11.01      3.28         2.96         33.00  \n4     11.27      8.89     10.22         1.00         31.37  ",
      "text/html": "<div>\n<style scoped>\n    .dataframe tbody tr th:only-of-type {\n        vertical-align: middle;\n    }\n\n    .dataframe tbody tr th {\n        vertical-align: top;\n    }\n\n    .dataframe thead th {\n        text-align: right;\n    }\n</style>\n<table border=\"1\" class=\"dataframe\">\n  <thead>\n    <tr style=\"text-align: right;\">\n      <th></th>\n      <th>Rank</th>\n      <th>Name</th>\n      <th>Platform</th>\n      <th>Year</th>\n      <th>Genre</th>\n      <th>Publisher</th>\n      <th>NA_Sales</th>\n      <th>EU_Sales</th>\n      <th>JP_Sales</th>\n      <th>Other_Sales</th>\n      <th>Global_Sales</th>\n    </tr>\n  </thead>\n  <tbody>\n    <tr>\n      <th>0</th>\n      <td>1</td>\n      <td>Wii Sports</td>\n      <td>Wii</td>\n      <td>2006.0</td>\n      <td>Sports</td>\n      <td>Nintendo</td>\n      <td>41.49</td>\n      <td>29.02</td>\n      <td>3.77</td>\n      <td>8.46</td>\n      <td>82.74</td>\n    </tr>\n    <tr>\n      <th>1</th>\n      <td>2</td>\n      <td>Super Mario Bros.</td>\n      <td>NES</td>\n      <td>1985.0</td>\n      <td>Platform</td>\n      <td>Nintendo</td>\n      <td>29.08</td>\n      <td>3.58</td>\n      <td>6.81</td>\n      <td>0.77</td>\n      <td>40.24</td>\n    </tr>\n    <tr>\n      <th>2</th>\n      <td>3</td>\n      <td>Mario Kart Wii</td>\n      <td>Wii</td>\n      <td>2008.0</td>\n      <td>Racing</td>\n      <td>Nintendo</td>\n      <td>15.85</td>\n      <td>12.88</td>\n      <td>3.79</td>\n      <td>3.31</td>\n      <td>35.82</td>\n    </tr>\n    <tr>\n      <th>3</th>\n      <td>4</td>\n      <td>Wii Sports Resort</td>\n      <td>Wii</td>\n      <td>2009.0</td>\n      <td>Sports</td>\n      <td>Nintendo</td>\n      <td>15.75</td>\n      <td>11.01</td>\n      <td>3.28</td>\n      <td>2.96</td>\n      <td>33.00</td>\n    </tr>\n    <tr>\n      <th>4</th>\n      <td>5</td>\n      <td>Pokemon Red/Pokemon Blue</td>\n      <td>GB</td>\n      <td>1996.0</td>\n      <td>Role-Playing</td>\n      <td>Nintendo</td>\n      <td>11.27</td>\n      <td>8.89</td>\n      <td>10.22</td>\n      <td>1.00</td>\n      <td>31.37</td>\n    </tr>\n  </tbody>\n</table>\n</div>"
     },
     "metadata": {},
     "execution_count": 118
    }
   ],
   "source": [
    "vgsales_df.head()"
   ]
  },
  {
   "cell_type": "code",
   "execution_count": 125,
   "metadata": {},
   "outputs": [
    {
     "output_type": "execute_result",
     "data": {
      "text/plain": "   Rank                      Name Platform    Year         Genre Publisher  \\\n0     1                Wii Sports      Wii  2006.0        Sports  Nintendo   \n1     2         Super Mario Bros.      NES  1985.0      Platform  Nintendo   \n2     3            Mario Kart Wii      Wii  2008.0        Racing  Nintendo   \n3     4         Wii Sports Resort      Wii  2009.0        Sports  Nintendo   \n4     5  Pokemon Red/Pokemon Blue       GB  1996.0  Role-Playing  Nintendo   \n\n   NA_Sales  EU_Sales  JP_Sales  Other_Sales  Global_Sales  NA_Sales_percents  \\\n0     41.49     29.02      3.77         8.46         82.74           0.501450   \n1     29.08      3.58      6.81         0.77         40.24           0.722664   \n2     15.85     12.88      3.79         3.31         35.82           0.442490   \n3     15.75     11.01      3.28         2.96         33.00           0.477273   \n4     11.27      8.89     10.22         1.00         31.37           0.359260   \n\n   EU_Sales_percents  JP_Sales_percents  NA_Sales_Percents  EU_Sales_Percents  \\\n0           0.350737           0.045564           0.501450           0.350737   \n1           0.088966           0.169235           0.722664           0.088966   \n2           0.359576           0.105807           0.442490           0.359576   \n3           0.333636           0.099394           0.477273           0.333636   \n4           0.283392           0.325789           0.359260           0.283392   \n\n   JP_Sales_Percents  \n0           0.045564  \n1           0.169235  \n2           0.105807  \n3           0.099394  \n4           0.325789  ",
      "text/html": "<div>\n<style scoped>\n    .dataframe tbody tr th:only-of-type {\n        vertical-align: middle;\n    }\n\n    .dataframe tbody tr th {\n        vertical-align: top;\n    }\n\n    .dataframe thead th {\n        text-align: right;\n    }\n</style>\n<table border=\"1\" class=\"dataframe\">\n  <thead>\n    <tr style=\"text-align: right;\">\n      <th></th>\n      <th>Rank</th>\n      <th>Name</th>\n      <th>Platform</th>\n      <th>Year</th>\n      <th>Genre</th>\n      <th>Publisher</th>\n      <th>NA_Sales</th>\n      <th>EU_Sales</th>\n      <th>JP_Sales</th>\n      <th>Other_Sales</th>\n      <th>Global_Sales</th>\n      <th>NA_Sales_percents</th>\n      <th>EU_Sales_percents</th>\n      <th>JP_Sales_percents</th>\n      <th>NA_Sales_Percents</th>\n      <th>EU_Sales_Percents</th>\n      <th>JP_Sales_Percents</th>\n    </tr>\n  </thead>\n  <tbody>\n    <tr>\n      <th>0</th>\n      <td>1</td>\n      <td>Wii Sports</td>\n      <td>Wii</td>\n      <td>2006.0</td>\n      <td>Sports</td>\n      <td>Nintendo</td>\n      <td>41.49</td>\n      <td>29.02</td>\n      <td>3.77</td>\n      <td>8.46</td>\n      <td>82.74</td>\n      <td>0.501450</td>\n      <td>0.350737</td>\n      <td>0.045564</td>\n      <td>0.501450</td>\n      <td>0.350737</td>\n      <td>0.045564</td>\n    </tr>\n    <tr>\n      <th>1</th>\n      <td>2</td>\n      <td>Super Mario Bros.</td>\n      <td>NES</td>\n      <td>1985.0</td>\n      <td>Platform</td>\n      <td>Nintendo</td>\n      <td>29.08</td>\n      <td>3.58</td>\n      <td>6.81</td>\n      <td>0.77</td>\n      <td>40.24</td>\n      <td>0.722664</td>\n      <td>0.088966</td>\n      <td>0.169235</td>\n      <td>0.722664</td>\n      <td>0.088966</td>\n      <td>0.169235</td>\n    </tr>\n    <tr>\n      <th>2</th>\n      <td>3</td>\n      <td>Mario Kart Wii</td>\n      <td>Wii</td>\n      <td>2008.0</td>\n      <td>Racing</td>\n      <td>Nintendo</td>\n      <td>15.85</td>\n      <td>12.88</td>\n      <td>3.79</td>\n      <td>3.31</td>\n      <td>35.82</td>\n      <td>0.442490</td>\n      <td>0.359576</td>\n      <td>0.105807</td>\n      <td>0.442490</td>\n      <td>0.359576</td>\n      <td>0.105807</td>\n    </tr>\n    <tr>\n      <th>3</th>\n      <td>4</td>\n      <td>Wii Sports Resort</td>\n      <td>Wii</td>\n      <td>2009.0</td>\n      <td>Sports</td>\n      <td>Nintendo</td>\n      <td>15.75</td>\n      <td>11.01</td>\n      <td>3.28</td>\n      <td>2.96</td>\n      <td>33.00</td>\n      <td>0.477273</td>\n      <td>0.333636</td>\n      <td>0.099394</td>\n      <td>0.477273</td>\n      <td>0.333636</td>\n      <td>0.099394</td>\n    </tr>\n    <tr>\n      <th>4</th>\n      <td>5</td>\n      <td>Pokemon Red/Pokemon Blue</td>\n      <td>GB</td>\n      <td>1996.0</td>\n      <td>Role-Playing</td>\n      <td>Nintendo</td>\n      <td>11.27</td>\n      <td>8.89</td>\n      <td>10.22</td>\n      <td>1.00</td>\n      <td>31.37</td>\n      <td>0.359260</td>\n      <td>0.283392</td>\n      <td>0.325789</td>\n      <td>0.359260</td>\n      <td>0.283392</td>\n      <td>0.325789</td>\n    </tr>\n  </tbody>\n</table>\n</div>"
     },
     "metadata": {},
     "execution_count": 125
    }
   ],
   "source": [
    "#Is this dry? It is not \n",
    "NA_Sales_Percents = []\n",
    "for index, row in vgsales_df.iterrows():\n",
    "    NA_Sales_Percents.append(row[\"NA_Sales\"] / row[\"Global_Sales\"])\n",
    "vgsales_df[\"NA_Sales_Percents\"] = NA_Sales_Percents\n",
    "\n",
    "EU_Sales_Percents = []\n",
    "for index, row in vgsales_df.iterrows():\n",
    "    EU_Sales_Percents.append(row[\"EU_Sales\"] / row[\"Global_Sales\"])\n",
    "vgsales_df[\"EU_Sales_Percents\"] = EU_Sales_Percents\n",
    "\n",
    "JP_Sales_Percents = []\n",
    "for index, row in vgsales_df.iterrows():\n",
    "    JP_Sales_Percents.append(row[\"JP_Sales\"] / row[\"Global_Sales\"])\n",
    "vgsales_df[\"JP_Sales_Percents\"] = JP_Sales_Percents\n",
    "vgsales_df.head()"
   ]
  },
  {
   "cell_type": "code",
   "execution_count": 131,
   "metadata": {},
   "outputs": [
    {
     "output_type": "execute_result",
     "data": {
      "text/plain": "                               Name  NA_Sales  Global_Sales  NA_Sales_Percents\n15028         Backyard NFL Football      0.02          0.02                1.0\n15025  Future Tactics: The Uprising      0.02          0.02                1.0\n15009          AirForce Delta Storm      0.02          0.02                1.0\n15077         Line Rider 2: Unbound      0.02          0.02                1.0\n16597              Spirits & Spells      0.01          0.01                1.0",
      "text/html": "<div>\n<style scoped>\n    .dataframe tbody tr th:only-of-type {\n        vertical-align: middle;\n    }\n\n    .dataframe tbody tr th {\n        vertical-align: top;\n    }\n\n    .dataframe thead th {\n        text-align: right;\n    }\n</style>\n<table border=\"1\" class=\"dataframe\">\n  <thead>\n    <tr style=\"text-align: right;\">\n      <th></th>\n      <th>Name</th>\n      <th>NA_Sales</th>\n      <th>Global_Sales</th>\n      <th>NA_Sales_Percents</th>\n    </tr>\n  </thead>\n  <tbody>\n    <tr>\n      <th>15028</th>\n      <td>Backyard NFL Football</td>\n      <td>0.02</td>\n      <td>0.02</td>\n      <td>1.0</td>\n    </tr>\n    <tr>\n      <th>15025</th>\n      <td>Future Tactics: The Uprising</td>\n      <td>0.02</td>\n      <td>0.02</td>\n      <td>1.0</td>\n    </tr>\n    <tr>\n      <th>15009</th>\n      <td>AirForce Delta Storm</td>\n      <td>0.02</td>\n      <td>0.02</td>\n      <td>1.0</td>\n    </tr>\n    <tr>\n      <th>15077</th>\n      <td>Line Rider 2: Unbound</td>\n      <td>0.02</td>\n      <td>0.02</td>\n      <td>1.0</td>\n    </tr>\n    <tr>\n      <th>16597</th>\n      <td>Spirits &amp; Spells</td>\n      <td>0.01</td>\n      <td>0.01</td>\n      <td>1.0</td>\n    </tr>\n  </tbody>\n</table>\n</div>"
     },
     "metadata": {},
     "execution_count": 131
    }
   ],
   "source": [
    "vgsales_df[[\"Name\", \"NA_Sales\", \"Global_Sales\", \"NA_Sales_Percents\"]].sort_values(by=[\"NA_Sales_Percents\"]).tail(5)"
   ]
  },
  {
   "cell_type": "code",
   "execution_count": 132,
   "metadata": {},
   "outputs": [
    {
     "output_type": "execute_result",
     "data": {
      "text/plain": "                                          Name  EU_Sales  Global_Sales  \\\n15462                          Crysis: Warhead      0.02          0.02   \n13546  WSC Real 11: World Snooker Championship      0.04          0.04   \n16186                              BattleForge      0.01          0.01   \n16178                              Putty Squad      0.01          0.01   \n14982                        Rapala for Kinect      0.02          0.02   \n\n       EU_Sales_Percents  \n15462                1.0  \n13546                1.0  \n16186                1.0  \n16178                1.0  \n14982                1.0  ",
      "text/html": "<div>\n<style scoped>\n    .dataframe tbody tr th:only-of-type {\n        vertical-align: middle;\n    }\n\n    .dataframe tbody tr th {\n        vertical-align: top;\n    }\n\n    .dataframe thead th {\n        text-align: right;\n    }\n</style>\n<table border=\"1\" class=\"dataframe\">\n  <thead>\n    <tr style=\"text-align: right;\">\n      <th></th>\n      <th>Name</th>\n      <th>EU_Sales</th>\n      <th>Global_Sales</th>\n      <th>EU_Sales_Percents</th>\n    </tr>\n  </thead>\n  <tbody>\n    <tr>\n      <th>15462</th>\n      <td>Crysis: Warhead</td>\n      <td>0.02</td>\n      <td>0.02</td>\n      <td>1.0</td>\n    </tr>\n    <tr>\n      <th>13546</th>\n      <td>WSC Real 11: World Snooker Championship</td>\n      <td>0.04</td>\n      <td>0.04</td>\n      <td>1.0</td>\n    </tr>\n    <tr>\n      <th>16186</th>\n      <td>BattleForge</td>\n      <td>0.01</td>\n      <td>0.01</td>\n      <td>1.0</td>\n    </tr>\n    <tr>\n      <th>16178</th>\n      <td>Putty Squad</td>\n      <td>0.01</td>\n      <td>0.01</td>\n      <td>1.0</td>\n    </tr>\n    <tr>\n      <th>14982</th>\n      <td>Rapala for Kinect</td>\n      <td>0.02</td>\n      <td>0.02</td>\n      <td>1.0</td>\n    </tr>\n  </tbody>\n</table>\n</div>"
     },
     "metadata": {},
     "execution_count": 132
    }
   ],
   "source": [
    "vgsales_df[[\"Name\", \"EU_Sales\", \"Global_Sales\", \"EU_Sales_Percents\"]].sort_values(by=[\"EU_Sales_Percents\"]).tail(5)"
   ]
  },
  {
   "cell_type": "code",
   "execution_count": 133,
   "metadata": {},
   "outputs": [
    {
     "output_type": "execute_result",
     "data": {
      "text/plain": "                                                    Name  JP_Sales  \\\n13557                  San-X Land: Theme Park de Asobou!      0.04   \n13558                      Corpse Party: Book of Shadows      0.04   \n13559                       428: Fuusa Sareta Shibuya de      0.04   \n13513  Chou Gekijoban Keroro Gunsou: Gekishin Dragon ...      0.04   \n11597                                           FabStyle      0.08   \n\n       Global_Sales  JP_Sales_Percents  \n13557          0.04                1.0  \n13558          0.04                1.0  \n13559          0.04                1.0  \n13513          0.04                1.0  \n11597          0.08                1.0  ",
      "text/html": "<div>\n<style scoped>\n    .dataframe tbody tr th:only-of-type {\n        vertical-align: middle;\n    }\n\n    .dataframe tbody tr th {\n        vertical-align: top;\n    }\n\n    .dataframe thead th {\n        text-align: right;\n    }\n</style>\n<table border=\"1\" class=\"dataframe\">\n  <thead>\n    <tr style=\"text-align: right;\">\n      <th></th>\n      <th>Name</th>\n      <th>JP_Sales</th>\n      <th>Global_Sales</th>\n      <th>JP_Sales_Percents</th>\n    </tr>\n  </thead>\n  <tbody>\n    <tr>\n      <th>13557</th>\n      <td>San-X Land: Theme Park de Asobou!</td>\n      <td>0.04</td>\n      <td>0.04</td>\n      <td>1.0</td>\n    </tr>\n    <tr>\n      <th>13558</th>\n      <td>Corpse Party: Book of Shadows</td>\n      <td>0.04</td>\n      <td>0.04</td>\n      <td>1.0</td>\n    </tr>\n    <tr>\n      <th>13559</th>\n      <td>428: Fuusa Sareta Shibuya de</td>\n      <td>0.04</td>\n      <td>0.04</td>\n      <td>1.0</td>\n    </tr>\n    <tr>\n      <th>13513</th>\n      <td>Chou Gekijoban Keroro Gunsou: Gekishin Dragon ...</td>\n      <td>0.04</td>\n      <td>0.04</td>\n      <td>1.0</td>\n    </tr>\n    <tr>\n      <th>11597</th>\n      <td>FabStyle</td>\n      <td>0.08</td>\n      <td>0.08</td>\n      <td>1.0</td>\n    </tr>\n  </tbody>\n</table>\n</div>"
     },
     "metadata": {},
     "execution_count": 133
    }
   ],
   "source": [
    "vgsales_df[[\"Name\", \"JP_Sales\", \"Global_Sales\", \"JP_Sales_Percents\"]].sort_values(by=[\"JP_Sales_Percents\"]).tail(5)"
   ]
  },
  {
   "cell_type": "code",
   "execution_count": null,
   "metadata": {},
   "outputs": [],
   "source": []
  }
 ],
 "metadata": {
  "kernelspec": {
   "display_name": "Python 3.8.2 64-bit",
   "language": "python",
   "name": "python38264bit1c13c05aa13a46ff8dfa295a2b0da374"
  },
  "language_info": {
   "codemirror_mode": {
    "name": "ipython",
    "version": 3
   },
   "file_extension": ".py",
   "mimetype": "text/x-python",
   "name": "python",
   "nbconvert_exporter": "python",
   "pygments_lexer": "ipython3",
   "version": "3.8.2-final"
  }
 },
 "nbformat": 4,
 "nbformat_minor": 4
}